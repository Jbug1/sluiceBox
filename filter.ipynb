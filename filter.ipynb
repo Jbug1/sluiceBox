{
 "cells": [
  {
   "cell_type": "markdown",
   "metadata": {},
   "source": [
    "**Experiementing with sequence filtering**"
   ]
  },
  {
   "cell_type": "code",
   "execution_count": 1,
   "metadata": {
    "ExecuteTime": {
     "end_time": "2022-08-02T03:40:32.129098Z",
     "start_time": "2022-08-02T03:40:30.629837Z"
    }
   },
   "outputs": [],
   "source": [
    "import numpy as np\n",
    "import time\n",
    "import pandas as pd\n",
    "import pybloom_live as bloom\n",
    "from Bio import SeqIO as seq\n",
    "from Bio.Seq import Seq as Seqbuild\n",
    "import os\n",
    "import matplotlib.pyplot as plt"
   ]
  },
  {
   "cell_type": "code",
   "execution_count": 18,
   "metadata": {
    "ExecuteTime": {
     "end_time": "2022-06-29T23:52:25.133421Z",
     "start_time": "2022-06-29T23:52:25.067896Z"
    }
   },
   "outputs": [],
   "source": [
    "fasta = \"C:/Users/jonah/School/ASI/bloom/GCF_002973605.1_ASM297360v1_genomic.fna\"\n",
    "# with open(fasta) as handle:\n",
    "#     for record in list(seq.parse(handle,\"fasta\")):\n",
    "#         print(record.id)\n",
    "\n",
    "\n",
    "        \n",
    "with open(fasta) as handle:\n",
    "    records = list(seq.parse(handle,\"fasta\"))\n",
    "        \n",
    "tryme = records[:2]\n",
    "\n",
    "\n",
    "with open(\"testy.fna\", \"w\") as handle:\n",
    "     seq.write(tryme, handle, \"fasta\")\n",
    "    "
   ]
  },
  {
   "cell_type": "code",
   "execution_count": 28,
   "metadata": {
    "ExecuteTime": {
     "end_time": "2022-07-01T21:41:21.143152Z",
     "start_time": "2022-07-01T21:41:21.102808Z"
    }
   },
   "outputs": [
    {
     "name": "stdout",
     "output_type": "stream",
     "text": [
      "3606331\n",
      "58\n",
      "69\n"
     ]
    }
   ],
   "source": [
    "bases=0\n",
    "exons=0\n",
    "with open(fasta) as genome_:\n",
    "    for exon in seq.parse(genome_,\"fasta\"):\n",
    "        bases+=len(exon.seq)\n",
    "        exons+=1\n",
    "\n",
    "print(bases)\n",
    "print(exons)\n",
    "\n",
    "import sys\n",
    "print(sys.getsizeof(\"1\"*20))"
   ]
  },
  {
   "cell_type": "markdown",
   "metadata": {
    "ExecuteTime": {
     "end_time": "2022-05-23T18:37:07.596754Z",
     "start_time": "2022-05-23T18:37:07.560822Z"
    }
   },
   "source": [
    "# to do: \n",
    "\n",
    "create.py file with bloom filter implemented \n",
    "    -eliminate check_read function call at every iteration\n",
    "    -implement one hit pass for read\n",
    "    -\n",
    "\n",
    "implement input for read generators such that the number created is flexible\n",
    "\n",
    "how would I change this to simulate aligning to a reference transcriptome? no need for splice awareness?\n",
    "\n",
    "Using hash set is now the implementation to beat: perhaps creating compressed partial keys can improve hash time, but maybe not...this may also be overkill for bloom filter but could potentially be useful for storing huge numbers of long sequences as we do this with fewer bytes. \n",
    "\n",
    "things to test for sake of understanding runtimes:\n",
    "    time to check set by key length\n",
    "    time to check set by number of partials\n",
    "    check how much one hit stop reduces runtime\n",
    "    why certain combos of indices give us 50% accuracy and how to avoid this\n",
    "    generally better understand best combos to try in order to make sure we don't systematically miss filter keys\n",
    "    should be a function of partial size, read size, genome size, and check indices\n",
    "    whether genome sampling can be used to reduce runtime while still attaining reasonable accuracy\n",
    "    bloom filter effects on accuracy\n",
    "    stacked bloom filter effects on accuracy\n",
    "    whether we have enough memory to store a huge set filter...have only tested up to 30mm\n",
    "    how much java implementation reduces runtime\n",
    "   \n",
    "\n",
    "these only have potential as alternative to stacked filter\n",
    "\n",
    "\n"
   ]
  },
  {
   "cell_type": "code",
   "execution_count": 42,
   "metadata": {
    "ExecuteTime": {
     "end_time": "2022-08-02T05:35:07.443065Z",
     "start_time": "2022-08-02T05:35:07.409065Z"
    }
   },
   "outputs": [],
   "source": [
    "def create_genome_exons2(total_size, exon_size):\n",
    "    \"\"\"\n",
    "    create syntheic exon to map to\n",
    "    \n",
    "    input:total_size - length of genome\n",
    "    exon_size- length of each exon\n",
    "    output: matrix of exons -string row format\n",
    "    \"\"\"\n",
    "    \n",
    "    exome = np.random.randint(1,5,total_size)\n",
    "    exome = exome.reshape(-1,exon_size)\n",
    "    output = np.empty(exome.shape[0],dtype=\"object\")\n",
    "    \n",
    "    for i in range(exome.shape[0]):\n",
    "        row = exome[i]\n",
    "        \n",
    "        out_string = str()\n",
    "        for j in range(len(row)):\n",
    "            out_string+=(str(row[j]))\n",
    "            \n",
    "        output[i]=out_string\n",
    "    \n",
    "    return output\n",
    "\n",
    "def create_transcriptome2(read_length, reads):\n",
    "    \"\"\"\n",
    "    create synthetic transcriptome\n",
    "    input-read length\n",
    "    input- reads\n",
    "    \n",
    "    output- reads number of random transcripts of read_length\n",
    "    this function is UNNECCESARY\n",
    "    \"\"\"\n",
    "    \n",
    "    transcriptome = np.random.randint(1,5,read_length*reads)\n",
    "    transcriptome = transcriptome.reshape(-1,reads)\n",
    "    output=np.empty(transcriptome.shape[0],dtype=\"object\")\n",
    "    \n",
    "    for i in range(int(transcriptome.shape[0]/10)):\n",
    "        \n",
    "        row=transcriptome[i]\n",
    "        outstring=str()\n",
    "        \n",
    "        for j in range(len(row)):\n",
    "            outstring+=str(row[j])\n",
    "            \n",
    "        output[i]=outstring\n",
    "            \n",
    "    return output\n",
    "\n",
    "def create_matched_transcriptome2(exome, read_length):\n",
    "    \"\"\"\n",
    "    create synthetic matched reads\n",
    "    \n",
    "    input: exome (mxn) where n is read string length and m is number of array entries\n",
    "    input: read_length: int\n",
    "    \n",
    "    output: matched reads potentially spanning exomes\n",
    "    \"\"\"\n",
    "    \n",
    "    bigstring = str()\n",
    "    \n",
    "    for i in exome[:int(len(exome))]:\n",
    "        bigstring+=i\n",
    "        \n",
    "    output = np.empty(len(bigstring)-read_length+1, dtype = \"object\")\n",
    "    \n",
    "    for i in range(len(bigstring)-read_length+1):\n",
    "        transcript = bigstring[i:i+read_length]\n",
    "        output[i] = transcript\n",
    "        \n",
    "    return output\n",
    "\n",
    "def create_indels2(matched_transcriptome, indels_per_read):\n",
    "    \n",
    "    output = np.empty(len(matched_transcriptome), dtype=\"object\")\n",
    "    \n",
    "    for i in range(len(matched_transcriptome)):\n",
    "        \n",
    "        new_read = matched_transcriptome[i]\n",
    "            \n",
    "            \n",
    "        change_indices = np.random.choice(range(len(new_read)),indels_per_read, replace=False)\n",
    "        \n",
    "        for change_index in change_indices:\n",
    "            if new_read[change_index]==\"1\":\n",
    "                new_read = new_read[:change_index]+\"4\"+new_read[change_index+1:]\n",
    "            \n",
    "            else:\n",
    "                insert=str(int(new_read[change_index])-1)\n",
    "                new_read = new_read[:change_index]+insert+new_read[change_index+1:]\n",
    "        \n",
    "        output[i]=new_read\n",
    "        \n",
    "    return output\n",
    "\n",
    "        \n",
    "class read_object2():\n",
    "    \"\"\"\n",
    "    create object to store the read we generate and its type...may expand class in the future to incorporate all\n",
    "    the read types we need as well as method to iterate over them.\n",
    "    \"\"\"\n",
    "    \n",
    "    def __init__(self, variety, exome, read_length, indels_per_read = 7):\n",
    "        \n",
    "        self.group = variety\n",
    "        self.indels_per_read = indels_per_read\n",
    "        self.read_length = read_length\n",
    "        \n",
    "        #create indel read\n",
    "        if self.group ==\"indel\":\n",
    "            self.reads = create_indels2(create_matched_transcriptome2(exome, read_length),self.indels_per_read)\n",
    "        \n",
    "        #create good transcriptome read   \n",
    "        elif self.group ==\"good\":\n",
    "            self.reads = create_matched_transcriptome2(exome, read_length)\n",
    "        \n",
    "        #create bad transcriptome read\n",
    "        elif self.group == \"bad\":\n",
    "            self.reads = create_genome_exons2(int(len(exome)*len(exome[0])), read_length)\n",
    "\n",
    "class filter_object2():\n",
    "    \"\"\"\n",
    "    object to house the filter type and its attributes\n",
    "    \"\"\"\n",
    "    \n",
    "    def __init__ (self, exome, group_size, indices, set_filter = False, bloom =False, bloombits=1, fpr=0.01):\n",
    "        self.exome = exome\n",
    "        self.group_size = group_size\n",
    "        self.indices = indices\n",
    "        self.set_filter = set_filter\n",
    "        self.bloom = bloom\n",
    "        self.bloombits = bloombits\n",
    "        self.fpr=fpr\n",
    "    \n",
    "    def generate_filter(self, verbose = False):\n",
    "        \"\"\"\n",
    "        inputs:\n",
    "        set_filter: implement filter using has set rather than array\n",
    "        indices: generate the filter with partial keys beginning at these indices\n",
    "        filter object: filter array to be populated with seen reads, can experient with augmenting existing filters later\n",
    "        could have if/then stacked filter where we just keep grabbing larger partial keys (might be more efficient way\n",
    "        to access reads and score them)\n",
    "\n",
    "        output: filter with corresponding cells set to 1 for reads seen\n",
    "        \"\"\"\n",
    "        \n",
    "        #check to see if there are indices passed to filter obj\n",
    "        #assumes that all exons are the same size\n",
    "        if self.indices==False:\n",
    "            self.indices = range(len(self.exome[0]))\n",
    "           \n",
    "            \n",
    "        #use the set filter rather than array\n",
    "        if self.set_filter:\n",
    "            filter_array = set()\n",
    "            \n",
    "        if self.bloom == True:\n",
    "            filter_array = bloom.BloomFilter(capacity = self.bloombits, error_rate = self.fpr)\n",
    "            \n",
    "        keys_added=0\n",
    "        for i in range(len(self.exome)):\n",
    "\n",
    "            exon = self.exome[i]\n",
    "                \n",
    "            #initialize variable to index array of start indices\n",
    "            for j in self.indices:\n",
    "\n",
    "                #verify that we don't go out of range\n",
    "                if (j+self.group_size)>=len(exon):\n",
    "                    break\n",
    "\n",
    "                #add key to filter array\n",
    "                filter_array.add(exon[j:j+self.group_size])\n",
    "                keys_added+=1\n",
    "        print(f\"keys added: {keys_added}\")\n",
    "        self.filter_ = filter_array\n",
    "        \n",
    "        \n",
    "    def check_read(self, read, check_indices, quick_check = False, quick_thresh = 1, verbose = False):\n",
    "        \"\"\"\n",
    "        function checks to see if a read is present in the filter, utilizing self.filter_, group size and fwd_move\n",
    "        \n",
    "        read: transcriptome read to be mapped\n",
    "        check_indices: array of start positions that we want to check\n",
    "        quick_check: implement fast check to read...see if it passes threshold\n",
    "        quick_thresh: threshold to be used for quick check\n",
    "        \n",
    "        outputs:number of size(group size) partial keys that appear in our filter\n",
    "        \"\"\"\n",
    "        \n",
    "        #test all combos if check indices are not stipulated\n",
    "        if check_indices == False:\n",
    "            check_indices = range(len(read)-self.group_size+1)\n",
    "\n",
    "        #int to store number of partial reads that map\n",
    "        hits = 0\n",
    "            \n",
    "        #set threshold if we are using quick check\n",
    "        if quick_check:\n",
    "            thresh = len(check_indices)*quick_thresh\n",
    "                \n",
    "            #grab partial keys for all given start keys\n",
    "            for start_key in check_indices:\n",
    "\n",
    "                if verbose:\n",
    "                    print(f'key: {read[start_key:start_key+self.group_size]}')\n",
    "\n",
    "                #check set filter for key\n",
    "                if read[start_key:start_key+self.group_size] in self.filter_:\n",
    "                    hits+=1\n",
    "                    \n",
    "                #break if we have reached necessary threshold\n",
    "                if hits >thresh:\n",
    "                     return len(check_indices)\n",
    "        else:\n",
    "            #grab partial keys for all given start keys\n",
    "            for start_key in check_indices:\n",
    "\n",
    "                if verbose:\n",
    "                    print(f'key: {read[start_key:start_key+self.group_size]}')\n",
    "\n",
    "                #check set filter for key\n",
    "                if read[start_key:start_key+self.group_size] in self.filter_:\n",
    "                    hits+=1\n",
    "            \n",
    "        return hits\n",
    "    \n",
    "    def one_hit_check (self, read, check_indices):\n",
    "        \"\"\"\n",
    "        optimized check, breaks after one partial key hit that is in the filter, should be fastest\n",
    "        way to check\n",
    "        \n",
    "        returns: boolean true if partial appears in filter, false if not\n",
    "        \"\"\"\n",
    "        if check_indices == False:\n",
    "            check_indices = range(len(read)-self.group_size+1)\n",
    "            \n",
    "        for start_key in check_indices:\n",
    "\n",
    "            #check set filter for key\n",
    "            if read[start_key:start_key+self.group_size] in self.filter_:\n",
    "                        return True\n",
    "        return False\n",
    "\n",
    "       \n",
    "def test_filters2(read_groups, exome, group_size_array, read_indices_array, genome_indices_array, thresh_array, quick_check = False, set_filter = False, bloom=True, fpr=0.01):\n",
    "    \"\"\"\n",
    "    function to test filter params, going to begin by varying key size and forward moves\n",
    "    \n",
    "    inputs:\n",
    "    reads: array of references to arrays holding reads\n",
    "    exome: exome to create filter with \n",
    "    group_size_array: array holding group sizes to try\n",
    "    genome_indices_array: array of genome indices from which to build partial keys to populate filter\n",
    "    perc_thresh: percent threshold above which we want to count reads\n",
    "    read_indices_array: read_indices to try...need to figure out how to pass rules thru array to subsample\n",
    "    set_filter: whether to use hash set for filter vs array\n",
    "    spacing: set to 0 for now\n",
    "    quick_check: use the quick check method for check read\n",
    "    \n",
    "    output: dataframe with summary statistics for accuracy and time\n",
    "    \"\"\"\n",
    "    \n",
    "    #initialize output array variables\n",
    "    gs = []\n",
    "    gi = []\n",
    "    ri = []\n",
    "    good_percentage = []\n",
    "    good_variance = []\n",
    "    bad_percentage = []\n",
    "    bad_variance = []\n",
    "    good_thresh = []\n",
    "    bad_thresh = []\n",
    "    indel_thresh = []\n",
    "    indel_percentage = []\n",
    "    indel_variance = []\n",
    "    generate_time_array=[]\n",
    "    check_time_array=[]\n",
    "    exome_shape =[]\n",
    "    filter_full = []\n",
    "    read_lengths = []\n",
    "    num_reads=[]\n",
    "    thresh_used = []\n",
    "    \n",
    "\n",
    "    #loop over grid\n",
    "    for group_size in group_size_array:\n",
    "        for genome_indices in genome_indices_array:\n",
    "            for read_indices in read_indices_array:\n",
    "                for perc_thresh in thresh_array:\n",
    "                    \n",
    "                    print(\"a\")\n",
    "                    gs.append(group_size)\n",
    "                    gi.append(genome_indices)\n",
    "                    ri.append(read_indices)\n",
    "                    thresh_used.append(perc_thresh)\n",
    "                    \n",
    "                    #create filter\n",
    "                    if genome_indices == False:\n",
    "                        genome_read_size = len(exome[0])-group_size\n",
    "                        \n",
    "                    else:\n",
    "                        genome_read_size = len(genome_indices)\n",
    "                        \n",
    "                    bloombits=group_size*genome_read_size*len(exome)/10\n",
    "                    print(bloombits)\n",
    "                    filter_obj = filter_object2(exome, group_size, genome_indices, set_filter = set_filter, bloom = bloom, bloombits=bloombits, fpr=fpr)\n",
    "                \n",
    "                    #time how long it takes to create \n",
    "                    generate_beg = time.time()\n",
    "                    filter_obj.generate_filter()\n",
    "                    generate_end = time.time()\n",
    "                    print(\"generated filter\")\n",
    "\n",
    "                    #see how full the filter is\n",
    "#                     if set_filter:\n",
    "#                         filter_full_perc = len(filter_obj.filter_)/4**group_size\n",
    "                    \n",
    "#                     else:\n",
    "#                         filter_full_perc= sum(filter_obj.filter_)/4**group_size\n",
    "                  \n",
    "\n",
    "\n",
    "                    #append create time to output array, grabbing percentage of array that is filled\n",
    "                    generate_time_array.append(generate_end-generate_beg)\n",
    "\n",
    "                    #TODO generate read indices according to protocol\n",
    "\n",
    "                    #test all the transcriptome read objects and time them\n",
    "                    check_beg = time.time()\n",
    "                    for read_group in read_groups:\n",
    "\n",
    "                        #creat placeholder variable to store read by read results\n",
    "                        out_array = []\n",
    "                        for row in range(read_group.reads.shape[0]):\n",
    "\n",
    "                            #grab individual read and check it in the filter\n",
    "                            read = read_group.reads[row]\n",
    "                            out_array.append(filter_obj.check_read(read, read_indices,quick_check=quick_check,quick_thresh=perc_thresh))\n",
    "\n",
    "\n",
    "                        #establish number of partial keys we tried\n",
    "                        if read_indices == False:\n",
    "                            pos = len(read_group.reads[0])-group_size+1\n",
    "\n",
    "                        else:\n",
    "                            pos = 0\n",
    "                            for i in read_indices:\n",
    "                                if i+group_size<len(read_group.reads[0]):\n",
    "                                    pos+=1\n",
    "\n",
    "                        #calculate ave percentage of hits\n",
    "                        percentage_array = [i/pos for i in out_array]\n",
    "                        prec = sum(percentage_array)/len(percentage_array)\n",
    "\n",
    "                        #calcualte percentage of reads above thresh\n",
    "                        thresh=0 \n",
    "                        for i in percentage_array:\n",
    "                            if i >=perc_thresh:\n",
    "                                thresh+=1\n",
    "\n",
    "                        thresh = thresh /len(percentage_array)\n",
    "\n",
    "\n",
    "                        #calculate variance of num hits\n",
    "                        var = np.var(out_array)\n",
    "\n",
    "\n",
    "                        if read_group.group == \"indel\":\n",
    "                            indel_percentage.append(prec)\n",
    "                            indel_variance.append(var)\n",
    "                            indel_thresh.append(thresh)\n",
    "\n",
    "                        elif read_group.group == \"good\":\n",
    "                            good_percentage.append(prec)\n",
    "                            good_variance.append(var)\n",
    "                            good_thresh.append(thresh)\n",
    "\n",
    "                        else:\n",
    "                            bad_percentage.append(prec)\n",
    "                            bad_variance.append(var)\n",
    "                            bad_thresh.append(thresh)\n",
    "\n",
    "                    check_end = time.time()\n",
    "                    \n",
    "                    check_time_array.append(check_end-check_beg)\n",
    "                    exome_shape.append(exome.shape[0])\n",
    "                    filter_full.append(0)\n",
    "                    read_lengths.append(len(read_groups[0].reads[0]))\n",
    "                    num_reads.append(read_groups[0].reads.shape[0])\n",
    "\n",
    "\n",
    "        out_df = pd.DataFrame({\"Group Size\":gs,\"Genome Indices\":gi,\"Read Indices\":ri, \"Good Percentage\":good_percentage,\n",
    "                              \"Bad Percentage\":bad_percentage, \"Indel Percentage\":indel_percentage, \"Good Variance\":good_variance,\n",
    "                              \"Bad Variance\":bad_variance, \"Indel Variance\":indel_variance, \"Good Thresh\":good_thresh,\n",
    "                              \"Bad Thresh\":bad_thresh, \"Indel Thresh\": indel_thresh, \"Create Time\": generate_time_array,\n",
    "                              \"Check Time\": check_time_array,\"Exome Size\":exome_shape, \"Read Lengths\": read_lengths, \"Num Reads\":num_reads, \n",
    "                              \"Filter Full Percentage\":filter_full, \"Threshold Used\":thresh_used})\n",
    "        \n",
    "    return out_df, filter_obj  "
   ]
  },
  {
   "cell_type": "code",
   "execution_count": 22,
   "metadata": {
    "ExecuteTime": {
     "end_time": "2022-08-02T04:44:25.164414Z",
     "start_time": "2022-08-02T04:44:25.144413Z"
    }
   },
   "outputs": [
    {
     "data": {
      "text/plain": [
       "array(['1333222114', '1131143441', '3122423314', '4214114242'],\n",
       "      dtype=object)"
      ]
     },
     "execution_count": 22,
     "metadata": {},
     "output_type": "execute_result"
    }
   ],
   "source": [
    "a=create_genome_exons2(40,10)\n",
    "b=create_matched_transcriptome2(a,10)\n",
    "c=create_indels2(b,4)\n",
    "a"
   ]
  },
  {
   "cell_type": "code",
   "execution_count": 23,
   "metadata": {
    "ExecuteTime": {
     "end_time": "2022-08-02T04:44:26.003437Z",
     "start_time": "2022-08-02T04:44:25.994437Z"
    }
   },
   "outputs": [
    {
     "data": {
      "text/plain": [
       "array(['1333222114', '3332221141', '3322211411', '3222114113',\n",
       "       '2221141131', '2211411311', '2114113114', '1141131143',\n",
       "       '1411311434', '4113114344', '1131143441', '1311434413',\n",
       "       '3114344131', '1143441312', '1434413122', '4344131224',\n",
       "       '3441312242', '4413122423', '4131224233', '1312242331',\n",
       "       '3122423314', '1224233144', '2242331442', '2423314421',\n",
       "       '4233144214', '2331442141', '3314421411', '3144214114',\n",
       "       '1442141142', '4421411424', '4214114242'], dtype=object)"
      ]
     },
     "execution_count": 23,
     "metadata": {},
     "output_type": "execute_result"
    }
   ],
   "source": [
    "b"
   ]
  },
  {
   "cell_type": "code",
   "execution_count": 24,
   "metadata": {
    "ExecuteTime": {
     "end_time": "2022-08-02T04:44:26.861711Z",
     "start_time": "2022-08-02T04:44:26.843712Z"
    }
   },
   "outputs": [
    {
     "data": {
      "text/plain": [
       "array(['1333111414', '2322211131', '2312214414', '2121414113',\n",
       "       '2114141134', '1211341211', '1114143444', '1144134132',\n",
       "       '4441341334', '4112443344', '4131433444', '1211424343',\n",
       "       '3113333134', '1442444311', '4333413422', '4243431223',\n",
       "       '3434341242', '3412422422', '4124224222', '1311141321',\n",
       "       '3111423343', '1123232444', '2142224442', '2412244421',\n",
       "       '4223143144', '1321442431', '2314314411', '3134243414',\n",
       "       '4442444442', '4421314323', '3114114141'], dtype=object)"
      ]
     },
     "execution_count": 24,
     "metadata": {},
     "output_type": "execute_result"
    }
   ],
   "source": [
    "c"
   ]
  },
  {
   "cell_type": "code",
   "execution_count": 25,
   "metadata": {
    "ExecuteTime": {
     "end_time": "2022-08-02T04:47:57.526163Z",
     "start_time": "2022-08-02T04:46:20.455302Z"
    }
   },
   "outputs": [
    {
     "name": "stdout",
     "output_type": "stream",
     "text": [
      "1\n",
      "2\n",
      "3\n",
      "bad2 (30000, 100)\n",
      "good2 (2999901, 100)\n",
      "indel2 (2999901, 100)\n",
      "total 6029802\n",
      "exome length 100\n",
      "exon length 30000\n",
      "time to generate: 97.0588526725769\n"
     ]
    }
   ],
   "source": [
    "a= time.time()\n",
    "exome2 = create_genome_exons2 (int(3e6),int(3e4))\n",
    "#bad_transcriptome = create_transcriptome(80,20)\n",
    "#good_transcriptome = create_matched_transcriptome(exome, 20)\n",
    "#indels = create_indels(good_transcriptome,1)\n",
    "print(1)\n",
    "bad2 = read_object2(\"bad\", exome2, 100)\n",
    "print(2)\n",
    "good2 = read_object2(\"good\",exome2, 100)\n",
    "print(3)\n",
    "indel2 = read_object2(\"indel\",exome2, 100)\n",
    "b=time.time()\n",
    "\n",
    "print(f\"bad2 {len(bad2.reads), len(bad2.reads[0])}\")\n",
    "print(f\"good2 {len(good2.reads),len(good2.reads[0])}\")\n",
    "print(f\"indel2 {len(indel2.reads),len(indel2.reads[0])}\")\n",
    "print(f\"total {len(bad2.reads)+len(good2.reads)+len(indel2.reads)}\")\n",
    "print(f\"exome length {len(exome2)}\")\n",
    "print(f\"exon length {len(exome2[0])}\")\n",
    "print(f\"time to generate: {b-a}\")"
   ]
  },
  {
   "cell_type": "code",
   "execution_count": 48,
   "metadata": {
    "ExecuteTime": {
     "end_time": "2022-08-02T05:39:28.474220Z",
     "start_time": "2022-08-02T05:38:37.510853Z"
    },
    "scrolled": false
   },
   "outputs": [
    {
     "name": "stdout",
     "output_type": "stream",
     "text": [
      "a\n",
      "5996000.0\n",
      "keys added: 2998000\n",
      "generated filter\n"
     ]
    },
    {
     "data": {
      "text/html": [
       "<div>\n",
       "<style scoped>\n",
       "    .dataframe tbody tr th:only-of-type {\n",
       "        vertical-align: middle;\n",
       "    }\n",
       "\n",
       "    .dataframe tbody tr th {\n",
       "        vertical-align: top;\n",
       "    }\n",
       "\n",
       "    .dataframe thead th {\n",
       "        text-align: right;\n",
       "    }\n",
       "</style>\n",
       "<table border=\"1\" class=\"dataframe\">\n",
       "  <thead>\n",
       "    <tr style=\"text-align: right;\">\n",
       "      <th></th>\n",
       "      <th>Group Size</th>\n",
       "      <th>Genome Indices</th>\n",
       "      <th>Read Indices</th>\n",
       "      <th>Good Percentage</th>\n",
       "      <th>Bad Percentage</th>\n",
       "      <th>Indel Percentage</th>\n",
       "      <th>Good Variance</th>\n",
       "      <th>Bad Variance</th>\n",
       "      <th>Indel Variance</th>\n",
       "      <th>Good Thresh</th>\n",
       "      <th>Bad Thresh</th>\n",
       "      <th>Indel Thresh</th>\n",
       "      <th>Create Time</th>\n",
       "      <th>Check Time</th>\n",
       "      <th>Exome Size</th>\n",
       "      <th>Read Lengths</th>\n",
       "      <th>Num Reads</th>\n",
       "      <th>Filter Full Percentage</th>\n",
       "      <th>Threshold Used</th>\n",
       "    </tr>\n",
       "  </thead>\n",
       "  <tbody>\n",
       "    <tr>\n",
       "      <th>0</th>\n",
       "      <td>20</td>\n",
       "      <td>False</td>\n",
       "      <td>[0, 20, 40, 60, 80]</td>\n",
       "      <td>1.25</td>\n",
       "      <td>0.001792</td>\n",
       "      <td>1.249844</td>\n",
       "      <td>0.0</td>\n",
       "      <td>0.035782</td>\n",
       "      <td>0.003125</td>\n",
       "      <td>1.0</td>\n",
       "      <td>0.001433</td>\n",
       "      <td>0.999875</td>\n",
       "      <td>13.386922</td>\n",
       "      <td>37.105834</td>\n",
       "      <td>100</td>\n",
       "      <td>100</td>\n",
       "      <td>30000</td>\n",
       "      <td>0</td>\n",
       "      <td>0.01</td>\n",
       "    </tr>\n",
       "  </tbody>\n",
       "</table>\n",
       "</div>"
      ],
      "text/plain": [
       "   Group Size  Genome Indices         Read Indices  Good Percentage  \\\n",
       "0          20           False  [0, 20, 40, 60, 80]             1.25   \n",
       "\n",
       "   Bad Percentage  Indel Percentage  Good Variance  Bad Variance  \\\n",
       "0        0.001792          1.249844            0.0      0.035782   \n",
       "\n",
       "   Indel Variance  Good Thresh  Bad Thresh  Indel Thresh  Create Time  \\\n",
       "0        0.003125          1.0    0.001433      0.999875    13.386922   \n",
       "\n",
       "   Check Time  Exome Size  Read Lengths  Num Reads  Filter Full Percentage  \\\n",
       "0   37.105834         100           100      30000                       0   \n",
       "\n",
       "   Threshold Used  \n",
       "0            0.01  "
      ]
     },
     "execution_count": 48,
     "metadata": {},
     "output_type": "execute_result"
    }
   ],
   "source": [
    "threes=list()\n",
    "twos=list()\n",
    "fours = list()\n",
    "fives = list()\n",
    "sixes = list()\n",
    "sevens = list()\n",
    "twos2=list()\n",
    "twosfin=list()\n",
    "\n",
    "\n",
    "i=0\n",
    "for i in range(int(3e5)):\n",
    "    if i%2==0:\n",
    "        twos.append(i)\n",
    "        twos2.append(i+1)\n",
    "        \n",
    "    if i%3==0:\n",
    "        threes.append(i)\n",
    "        \n",
    "    if i%4==0:\n",
    "        fours.append(i)\n",
    "        \n",
    "    if i%5==0:\n",
    "        fives.append(i)\n",
    "        \n",
    "    if i%6==0:\n",
    "        sixes.append(i)\n",
    "    if i%7==0:\n",
    "        sevens.append(i)\n",
    "\n",
    "for i in range(len(twos2)):\n",
    "    if i%2==0:\n",
    "        twosfin.append(twos2[i])\n",
    "    else:\n",
    "        twosfin.append(twos[i])\n",
    "        \n",
    "genome_indices = [False]\n",
    "read_indices = [[0,20,40,60,80]]\n",
    "partial_key_size = [20]\n",
    "thresholds=[0.01]\n",
    "\n",
    "a, b=test_filters2([bad2, good2, indel2],exome2, partial_key_size, read_indices ,genome_indices, thresholds,quick_check=True, set_filter = False, bloom=True, fpr=0.01)\n",
    "#a.to_csv(\"genome_index_300mm_5.30.csv\")\n",
    "a"
   ]
  },
  {
   "cell_type": "code",
   "execution_count": 56,
   "metadata": {
    "ExecuteTime": {
     "end_time": "2022-08-02T05:57:14.280869Z",
     "start_time": "2022-08-02T05:57:14.264871Z"
    }
   },
   "outputs": [
    {
     "data": {
      "text/plain": [
       "5153244.0"
      ]
     },
     "execution_count": 56,
     "metadata": {},
     "output_type": "execute_result"
    }
   ],
   "source": [
    "samps = ((429454)-17)*12\n",
    "expected_unique=(1-(1-1/samps)**(4**50))*samps\n",
    "expected_unique"
   ]
  },
  {
   "cell_type": "code",
   "execution_count": null,
   "metadata": {},
   "outputs": [],
   "source": [
    "\n",
    "a, b=test_filters2([bad2, good2, indel2],exome2, partial_key_size, read_indices ,genome_indices, thresholds,quick_check=True, set_filter = False, bloom=True, fpr=0.1)"
   ]
  },
  {
   "cell_type": "code",
   "execution_count": 27,
   "metadata": {
    "ExecuteTime": {
     "end_time": "2022-06-17T01:03:23.304998Z",
     "start_time": "2022-06-17T01:03:23.191574Z"
    }
   },
   "outputs": [
    {
     "data": {
      "image/png": "[encoded data removed]",
      "text/plain": [
       "<Figure size 432x288 with 1 Axes>"
      ]
     },
     "metadata": {
      "needs_background": "light"
     },
     "output_type": "display_data"
    }
   ],
   "source": [
    "# x= [100/i for i in [1,2,3,4,5,6,7]]\n",
    "\n",
    "x=a[\"Group Size\"]\n",
    "y=a[\"Good Thresh\"]\n",
    "\n",
    "plt.plot(x,y)\n",
    "plt.show()"
   ]
  },
  {
   "cell_type": "code",
   "execution_count": 36,
   "metadata": {
    "ExecuteTime": {
     "end_time": "2022-08-02T05:11:53.721595Z",
     "start_time": "2022-08-02T05:11:53.132579Z"
    }
   },
   "outputs": [
    {
     "data": {
      "image/png": "[encoded data removed]",
      "text/plain": [
       "<Figure size 432x288 with 1 Axes>"
      ]
     },
     "metadata": {
      "needs_background": "light"
     },
     "output_type": "display_data"
    }
   ],
   "source": [
    "x=a[\"Group Size\"][:]\n",
    "y=a[\"Bad Thresh\"][:]\n",
    "\n",
    "plt.plot(x,y)\n",
    "plt.show()"
   ]
  },
  {
   "cell_type": "code",
   "execution_count": 31,
   "metadata": {
    "ExecuteTime": {
     "end_time": "2022-06-17T01:05:21.705716Z",
     "start_time": "2022-06-17T01:05:21.593982Z"
    },
    "scrolled": true
   },
   "outputs": [
    {
     "data": {
      "image/png": "[encoded data removed]",
      "text/plain": [
       "<Figure size 432x288 with 1 Axes>"
      ]
     },
     "metadata": {
      "needs_background": "light"
     },
     "output_type": "display_data"
    }
   ],
   "source": [
    "x=a[\"Group Size\"]\n",
    "y=a[\"Indel Thresh\"]\n",
    "\n",
    "plt.plot(x,y)\n",
    "plt.show()"
   ]
  },
  {
   "cell_type": "code",
   "execution_count": 85,
   "metadata": {
    "ExecuteTime": {
     "end_time": "2022-06-17T23:31:04.485332Z",
     "start_time": "2022-06-17T23:31:04.477218Z"
    }
   },
   "outputs": [
    {
     "data": {
      "text/plain": [
       "2861.02294921875"
      ]
     },
     "execution_count": 85,
     "metadata": {},
     "output_type": "execute_result"
    }
   ],
   "source": [
    "3e9/4**10"
   ]
  },
  {
   "cell_type": "code",
   "execution_count": 90,
   "metadata": {
    "ExecuteTime": {
     "end_time": "2022-06-17T23:32:23.398400Z",
     "start_time": "2022-06-17T23:32:23.382128Z"
    }
   },
   "outputs": [
    {
     "name": "stdout",
     "output_type": "stream",
     "text": [
      "0.027938280254602422\n",
      "15.839999947373023\n",
      "3519999988.305116\n"
     ]
    }
   ],
   "source": [
    "def estimate_perc_full(size,key_length, ex_length):\n",
    "    \n",
    "    samps = size-(key_length*size/ex_length)\n",
    "    expected_unique=(1-(1-1/samps)**(4**key_length))*samps\n",
    "    return expected_unique/4**key_length\n",
    "\n",
    "def estimate_mem_req(exome_mem, size, key_length, ex_length):\n",
    "    \n",
    "    perc_full=estimate_perc_full(size, key_length, ex_length)\n",
    "    \n",
    "    if perc_full>1:\n",
    "        return (4**key_length)/size*exome_mem\n",
    "        \n",
    "    return perc_full*exome_mem*key_length*(4**key_length/size)\n",
    "\n",
    "a\n",
    "print(estimate_perc_full(3e7,15,3e5))\n",
    "print(estimate_mem_req(1,4e9,18,150))\n",
    "print(estimate_perc_full(4e9,18,150)*4**18)\n"
   ]
  },
  {
   "cell_type": "code",
   "execution_count": 17,
   "metadata": {
    "ExecuteTime": {
     "end_time": "2022-06-29T23:44:59.898429Z",
     "start_time": "2022-06-29T23:44:59.875153Z"
    }
   },
   "outputs": [
    {
     "data": {
      "text/plain": [
       "1048576"
      ]
     },
     "execution_count": 17,
     "metadata": {},
     "output_type": "execute_result"
    }
   ],
   "source": [
    "4**10"
   ]
  },
  {
   "cell_type": "code",
   "execution_count": 12,
   "metadata": {
    "ExecuteTime": {
     "end_time": "2022-06-29T23:17:21.304040Z",
     "start_time": "2022-06-29T23:17:21.292772Z"
    }
   },
   "outputs": [
    {
     "name": "stdout",
     "output_type": "stream",
     "text": [
      "2.72830220637843e-05\n"
     ]
    }
   ],
   "source": [
    "def estimate_perc_full_2(bases,key_length, num_ex,sparsity_factor):\n",
    "    \n",
    "    \n",
    "    samps = ((bases/num_ex)-key_length)*num_ex/sparsity_factor\n",
    "    expected_unique=(1-(1-1/samps)**(4**key_length))*samps\n",
    "    return expected_unique/4**key_length\n",
    "\n",
    "def estimate_perc_full_3(bases,key_length, num_ex,sparsity_factor):\n",
    "    \n",
    "    \n",
    "    samps = ((bases/num_ex)-key_length)*num_ex/sparsity_factor\n",
    "    expected_unique=(1-(1-1/samps)**(4**key_length))*samps\n",
    "    return expected_unique/4**key_length\n",
    "\n",
    "print(estimate_perc_full_2(3e7,20,3e7/3e5,1))"
   ]
  },
  {
   "cell_type": "code",
   "execution_count": 35,
   "metadata": {
    "ExecuteTime": {
     "end_time": "2022-06-17T01:23:12.268457Z",
     "start_time": "2022-06-17T01:23:12.262474Z"
    }
   },
   "outputs": [],
   "source": [
    "def choose_genome_sparsity(genome_filesize, read_filesize, read_length, key_size, average_exon_size, flex_factor, num_files):\n",
    "    \"\"\"\n",
    "    function to choose genome indices and read indices to optimize for runtime\n",
    "    genome and read filesizes only need to be in the same units\n",
    "    \"\"\"\n",
    "    \n",
    "    if key_size>=average_exon_size or key_size >= read_length:\n",
    "        return(\"err: key size is too large\")\n",
    "    \n",
    "    num = genome_filesize*(1-(key_size/average_exon_size))\n",
    "    denom = (read_filesize/read_length)*flex_factor*num_files\n",
    "    \n",
    "    return int((num/denom)**0.5)"
   ]
  },
  {
   "cell_type": "code",
   "execution_count": 39,
   "metadata": {
    "ExecuteTime": {
     "end_time": "2022-06-17T01:25:17.640293Z",
     "start_time": "2022-06-17T01:25:17.626334Z"
    }
   },
   "outputs": [
    {
     "data": {
      "text/plain": [
       "3"
      ]
     },
     "execution_count": 39,
     "metadata": {},
     "output_type": "execute_result"
    }
   ],
   "source": [
    "choose_genome_sparsity(3,9,100,30,100,2,1)"
   ]
  },
  {
   "cell_type": "code",
   "execution_count": 10,
   "metadata": {
    "ExecuteTime": {
     "end_time": "2022-06-01T21:43:55.458865Z",
     "start_time": "2022-06-01T21:43:55.254211Z"
    }
   },
   "outputs": [
    {
     "name": "stdout",
     "output_type": "stream",
     "text": [
      "21844 5461\n"
     ]
    }
   ],
   "source": [
    "a=[]\n",
    "seen_key = set()\n",
    "seen_slot = set()\n",
    "\n",
    "for i in range(10000):\n",
    "    \n",
    "    key=(str(np.random.randint(1,5)*1000000+np.random.randint(1,5)*100000+np.random.randint(1,5)*10000+np.random.randint(1,5)*1000+np.random.randint(1,5)*100+np.random.randint(1,5)*10+np.random.randint(1,5)))\n",
    "    \n",
    "    if key not in seen_key:\n",
    "        seen_key.add(key)\n",
    "        \n",
    "        slot=(int(key[0]))+int(key[1])*4+int(key[2])*16+int(key[3])*64+int(key[4])*256+int(key[5])*1024+int(key[6])*4096\n",
    "        if slot in seen_slot:\n",
    "            print(f\"bummer: {key,slot}\")\n",
    "            \n",
    "        else:\n",
    "            seen_slot.add(slot)\n",
    "\n",
    "            \n",
    "print(max(seen_slot), min(seen_slot))\n"
   ]
  },
  {
   "cell_type": "code",
   "execution_count": null,
   "metadata": {
    "ExecuteTime": {
     "start_time": "2022-05-30T21:04:44.117Z"
    }
   },
   "outputs": [],
   "source": [
    "a=[]\n",
    "seen_key = set()\n",
    "seen_slot = set()\n",
    "\n",
    "for i in range(10000):\n",
    "    \n",
    "    key=(str(np.random.randint(0,4)*100+np.random.randint(0,4)*10+np.random.randint(0,4)))\n",
    "    \n",
    "    if key not in seen_key:\n",
    "        seen_key.add(key)\n",
    "        \n",
    "        slot=(int(key[0])*4)+int(key[1])*16+int(key[2])+10\n",
    "        if slot in seen_slot:\n",
    "            print(f\"bummer: {key,slot}\")\n",
    "            \n",
    "        else:\n",
    "            seen_slot.add(slot)\n",
    "            \n",
    "print(\"done\")"
   ]
  },
  {
   "cell_type": "code",
   "execution_count": 58,
   "metadata": {
    "ExecuteTime": {
     "end_time": "2022-08-09T06:37:45.274226Z",
     "start_time": "2022-08-09T06:37:45.262227Z"
    }
   },
   "outputs": [
    {
     "data": {
      "text/plain": [
       "'12345678'"
      ]
     },
     "execution_count": 58,
     "metadata": {},
     "output_type": "execute_result"
    }
   ],
   "source": [
    "a='12345678910'\n",
    "\n",
    "a[:8]"
   ]
  },
  {
   "cell_type": "markdown",
   "metadata": {
    "heading_collapsed": true
   },
   "source": [
    "# Old Implementation: read arrays rather than strings, seems 5x slower"
   ]
  },
  {
   "cell_type": "code",
   "execution_count": null,
   "metadata": {
    "ExecuteTime": {
     "start_time": "2022-05-30T21:04:44.119Z"
    },
    "hidden": true
   },
   "outputs": [],
   "source": [
    "def create_genome_exons(total_size, exon_size):\n",
    "    \"\"\"\n",
    "    create syntheic exon to map to\n",
    "    \n",
    "    input:total_size - length of genome\n",
    "    exon_size- length of each exon\n",
    "    output: matrix of exons\n",
    "    \"\"\"\n",
    "    \n",
    "    exome = np.random.randint(1,5,total_size)\n",
    "    exome = exome.reshape(-1,exon_size)\n",
    "    \n",
    "    return exome\n",
    "\n",
    "def create_transcriptome(read_length, reads):\n",
    "    \"\"\"\n",
    "    create synthetic transcriptome\n",
    "    input-read length\n",
    "    input- reads\n",
    "    \n",
    "    output- reads number of random transcripts of read_length\n",
    "    \"\"\"\n",
    "    \n",
    "    transcriptome = np.random.randint(1,5,read_length*reads)\n",
    "    transcriptome = transcriptome.reshape(-1,reads)\n",
    "    \n",
    "    return transcriptome\n",
    "\n",
    "def create_matched_transcriptome(exome, read_length):\n",
    "    \"\"\"\n",
    "    create synthetic matched reads\n",
    "    \n",
    "    input: exome (mxn)\n",
    "    input: read_length: int\n",
    "    \"\"\"\n",
    "    \n",
    "    exome=exome.flatten()\n",
    "    out_matrix = np.zeros([int(len(exome)-read_length)+1, read_length])\n",
    "    \n",
    "    for i in range(len(exome)-read_length+1):\n",
    "        transcript = exome[i:i+read_length]\n",
    "        out_matrix[i]+=transcript\n",
    "        \n",
    "    return out_matrix\n",
    "\n",
    "def create_indels(matched_transcriptome, indels_per_read):\n",
    "    \n",
    "    outmatrix = np.zeros([matched_transcriptome.shape[0],matched_transcriptome.shape[1]])\n",
    "    \n",
    "    for row in range(matched_transcriptome.shape[0]):\n",
    "        \n",
    "        new_read = matched_transcriptome[row]\n",
    "        \n",
    "        change_index = np.random.randint(0,len(new_read))\n",
    "        \n",
    "        if new_read[change_index]==1:\n",
    "            new_read[change_index]=4\n",
    "            \n",
    "        else:\n",
    "            new_read[change_index]-=1\n",
    "            \n",
    "        outmatrix[row]+=new_read\n",
    "        \n",
    "    return outmatrix\n",
    "\n",
    "        \n",
    "class read_object():\n",
    "    \"\"\"\n",
    "    create object to store the read we generate and its type...may expand class in the future to incorporate all\n",
    "    the read types we need as well as method to iterate over them.\n",
    "    \"\"\"\n",
    "    \n",
    "    def __init__(self, variety, exome, read_length, indels_per_read = 1):\n",
    "        \n",
    "        self.group = variety\n",
    "        self.indels_per_read = indels_per_read\n",
    "        \n",
    "        #create indel read\n",
    "        if self.group ==\"indel\":\n",
    "            self.reads = create_indels(create_matched_transcriptome(exome, read_length),self.indels_per_read)\n",
    "        \n",
    "        #create good transcriptome read   \n",
    "        elif self.group ==\"good\":\n",
    "            self.reads = create_matched_transcriptome(exome, read_length)\n",
    "        \n",
    "        #create bad transcriptome read\n",
    "        elif self.group == \"bad\":\n",
    "            self.reads = create_transcriptome (exome.shape[0]*read_length, read_length)\n",
    "            \n",
    "class filter_object():\n",
    "    \"\"\"\n",
    "    object to house the filter type and its attributes\n",
    "    \"\"\"\n",
    "    \n",
    "    def __init__ (self, exome, group_size, fwd_move, spacing=0):\n",
    "        self.exome = exome\n",
    "        self.group_size = group_size\n",
    "        self.fwd_move = fwd_move\n",
    "        self.spacing = spacing\n",
    "    \n",
    "    def generate_filter(self, verbose = False):\n",
    "        \"\"\"\n",
    "        inputs:\n",
    "        exome: exome matrix form\n",
    "        group_size: number of bases in partial key to populate filter with\n",
    "        spacing: number of bases to skip when generating key\n",
    "        fwd_move: how many bp to move forward following partial key creation\n",
    "        filter object: filter array to be populated with seen reads, can experient with augmenting existing filters later\n",
    "        could have if/then stacked filter where we just keep grabbing larger partial keys (might be more efficient way\n",
    "        to access reads and score them)\n",
    "\n",
    "        output: filter with corresponding cells set to 1 for reads seen\n",
    "        \"\"\"\n",
    "\n",
    "        #generate proper size for array (can do this more compactly)\n",
    "        base=0\n",
    "        for i in range(self.group_size):\n",
    "            base+=(4*10**i)\n",
    "\n",
    "        if verbose:\n",
    "            print(\"base size: \"+str(base))\n",
    "\n",
    "\n",
    "        #generate filter\n",
    "        filter_array = np.zeros(base+1)\n",
    "\n",
    "        #grab each exon and create keys to populate filter\n",
    "        for row in range(self.exome.shape[0]):\n",
    "\n",
    "            exon = self.exome[row]\n",
    "\n",
    "            if verbose:\n",
    "                print(f'len exon: {len(exon)}')\n",
    "\n",
    "            if self.spacing >0:\n",
    "                #set this aside for now\n",
    "                pass\n",
    "\n",
    "            else:\n",
    "                start_key=0\n",
    "\n",
    "                #grab partial keys until we reach the end of the exon\n",
    "                while (start_key+self.group_size)<=len(exon):\n",
    "\n",
    "                    if verbose:\n",
    "                        print(f'key: {exon[start_key:start_key+self.group_size]}')\n",
    "\n",
    "                    #generate key\n",
    "                    key=0\n",
    "                    mult=1\n",
    "                    for i in range(self.group_size):\n",
    "                        key+=exon[start_key+i]*mult\n",
    "                        mult*=10\n",
    "                      \n",
    "                    #add key to filter array\n",
    "                    filter_array[key]=1\n",
    "\n",
    "                    #move the start of next partial key according to fwd move input\n",
    "                    start_key+=self.fwd_move\n",
    "\n",
    "                    if verbose:\n",
    "\n",
    "                        print(f'new start key{start_key}')\n",
    "\n",
    "        self.filter_ = filter_array\n",
    "        \n",
    "        \n",
    "    def check_read(self, read, check_indices, verbose = False):\n",
    "        \"\"\"\n",
    "        function checks to see if a read is present in the filter, utilizing self.filter_, group size and fwd_move\n",
    "        \n",
    "        read: transcriptome read to be mapped\n",
    "        check_indices: array of start positions that we want to check\n",
    "        \n",
    "        outputs:number of size(group size) partial keys that appear in our filter\n",
    "        \"\"\"\n",
    "        #test all combos if check indices are not stipulated\n",
    "        if check_indices == False:\n",
    "            check_indices = range(len(read)-self.group_size+1)\n",
    "            \n",
    "        #int to store number of partial reads that map\n",
    "        hits = 0\n",
    "        \n",
    "        #catch this later\n",
    "        if self.spacing >0:\n",
    "            pass\n",
    "        \n",
    "        #grab partial keys for all given start keys\n",
    "        for start_key in check_indices:\n",
    "\n",
    "            if verbose:\n",
    "                print(f'key: {read[start_key:start_key+self.group_size]}')\n",
    "\n",
    "            #generate key\n",
    "            key=0\n",
    "            mult=1\n",
    "            for i in range(self.group_size):\n",
    "                   \n",
    "                key+=read[start_key+i]*mult\n",
    "                mult*=10\n",
    "\n",
    "            #check filter_ for key\n",
    "            hits += self.filter_[int(key)]   \n",
    "\n",
    "            #move the start of next partial key according to fwd move input\n",
    "            start_key+=self.fwd_move\n",
    "\n",
    "            if verbose:\n",
    "                print(f'new start key{start_key}')\n",
    "                    \n",
    "        return hits\n",
    "\n",
    "       \n",
    "def test_filters(read_groups, exome, group_size_array, read_indices_array, fwd_move_array, thresh_array, spacing=0):\n",
    "    \"\"\"\n",
    "    function to test filter params, going to begin by varying key size and forward moves\n",
    "    \n",
    "    inputs:\n",
    "    reads: array of references to arrays holding reads\n",
    "    exome: exome to create filter with \n",
    "    group_size_array: array holding group sizes to try\n",
    "    fwd_move_array: array holding fwd moves to try\n",
    "    perc_thresh: percent threshold above which we want to count reads\n",
    "    read_indices_array: read_indices to try...need to figure out how to pass rules thru array to subsample\n",
    "    spacing: set to 0 for now\n",
    "    \n",
    "    output: dataframe with summary statistics for accuracy and time\n",
    "    \"\"\"\n",
    "    \n",
    "    #initialize output array variables\n",
    "    gs = []\n",
    "    fwd = []\n",
    "    ri = []\n",
    "    good_percentage = []\n",
    "    good_variance = []\n",
    "    bad_percentage = []\n",
    "    bad_variance = []\n",
    "    good_thresh = []\n",
    "    bad_thresh = []\n",
    "    indel_thresh = []\n",
    "    indel_percentage = []\n",
    "    indel_variance = []\n",
    "    generate_time_array=[]\n",
    "    check_time_array=[]\n",
    "    exome_shape =[]\n",
    "    filter_full = []\n",
    "    read_lengths = []\n",
    "    num_reads=[]\n",
    "    \n",
    "    #loop over grid\n",
    "    for group_size in group_size_array:\n",
    "        for fwd_move in fwd_move_array:\n",
    "            for read_indices in read_indices_array:\n",
    "                for perc_thresh in thresh_array:\n",
    "                    gs.append(group_size)\n",
    "                    fwd.append(fwd_move)\n",
    "                    ri.append(read_indices)\n",
    "\n",
    "                    #create filter\n",
    "                    filter_obj = filter_object(exome, group_size, fwd_move)\n",
    "\n",
    "\n",
    "                    #time how long it takes to create \n",
    "                    generate_beg = time.time()\n",
    "                    filter_obj.generate_filter()\n",
    "                    generate_end = time.time()\n",
    "\n",
    "                    #see how full the filter is\n",
    "                    filter_full_perc= sum(filter_obj.filter_)/4**group_size\n",
    "\n",
    "\n",
    "\n",
    "                    #append create time to output array, grabbing percentage of array that is filled\n",
    "                    generate_time_array.append(generate_end-generate_beg)\n",
    "\n",
    "                    #TODO generate read indices according to protocol\n",
    "\n",
    "                    #test all the transcriptome read objects and time them\n",
    "                    check_beg = time.time()\n",
    "                    for read_group in read_groups:\n",
    "\n",
    "                        #creat placeholder variable to store read by read results\n",
    "                        out_array = []\n",
    "                        for row in range(read_group.reads.shape[0]):\n",
    "\n",
    "                            #grab individual read and check it in the filter\n",
    "                            read = read_group.reads[row]\n",
    "                            out_array.append(filter_obj.check_read(read, read_indices))\n",
    "\n",
    "                            if out_array[-1]<1:\n",
    "                                print(f\"hey!-----{row,read}\")\n",
    "\n",
    "                        #establish number of partial keys we tried\n",
    "                        if read_indices == False:\n",
    "                            pos = len(read_group.reads[0])-group_size+1\n",
    "\n",
    "                        else:\n",
    "                            pos = len(read_indices)\n",
    "\n",
    "                        #calculate ave percentage of hits\n",
    "                        percentage_array = [i/pos for i in out_array]\n",
    "                        prec = sum(percentage_array)/len(percentage_array)\n",
    "\n",
    "                        #calcualte percentage of reads above thresh\n",
    "                        thresh=0 \n",
    "                        for i in percentage_array:\n",
    "                            if i >=perc_thresh:\n",
    "                                thresh+=1\n",
    "\n",
    "                        thresh = thresh /len(percentage_array)\n",
    "\n",
    "\n",
    "                        #calculate variance of num hits\n",
    "                        var = np.var(out_array)\n",
    "\n",
    "\n",
    "                        if read_group.group == \"indel\":\n",
    "                            indel_percentage.append(prec)\n",
    "                            indel_variance.append(var)\n",
    "                            indel_thresh.append(thresh)\n",
    "\n",
    "                        elif read_group.group == \"good\":\n",
    "                            good_percentage.append(prec)\n",
    "                            good_variance.append(var)\n",
    "                            good_thresh.append(thresh)\n",
    "\n",
    "                        else:\n",
    "                            bad_percentage.append(prec)\n",
    "                            bad_variance.append(var)\n",
    "                            bad_thresh.append(thresh)\n",
    "\n",
    "                    check_end = time.time()\n",
    "                    check_time_array.append(check_end-check_beg)\n",
    "                    exome_shape.append(exome.shape[0])\n",
    "                    filter_full.append(filter_full_perc)\n",
    "                    read_lengths.append(read_groups[0].reads.shape[1])\n",
    "                    num_reads.append(read_groups[0].reads.shape[0])\n",
    "\n",
    "\n",
    "        out_df = pd.DataFrame({\"Group Size\":gs,\"Fwd Move\":fwd,\"Read Indices\":ri, \"Good Percentage\":good_percentage,\n",
    "                              \"Bad Percentage\":bad_percentage, \"Indel Percentage\":indel_percentage, \"Good Variance\":good_variance,\n",
    "                              \"Bad Variance\":bad_variance, \"Indel Variance\":indel_variance, \"Good Thresh\":good_thresh,\n",
    "                              \"Bad Thresh\":bad_thresh, \"Indel Thresh\": indel_thresh, \"Create Time\": generate_time_array,\n",
    "                              \"Check Time\": check_time_array,\"Exome Size\":exome_shape, \"Read Lengths\": read_lengths, \"Num Reads\":num_reads, \n",
    "                              \"Filter Full Percentage\":filter_full})\n",
    "        \n",
    "    return out_df, filter_obj      "
   ]
  },
  {
   "cell_type": "code",
   "execution_count": null,
   "metadata": {
    "hidden": true
   },
   "outputs": [],
   "source": []
  }
 ],
 "metadata": {
  "hide_input": false,
  "kernelspec": {
   "display_name": "Python 3 (ipykernel)",
   "language": "python",
   "name": "python3"
  },
  "language_info": {
   "codemirror_mode": {
    "name": "ipython",
    "version": 3
   },
   "file_extension": ".py",
   "mimetype": "text/x-python",
   "name": "python",
   "nbconvert_exporter": "python",
   "pygments_lexer": "ipython3",
   "version": "3.9.12"
  },
  "toc": {
   "base_numbering": 1,
   "nav_menu": {},
   "number_sections": true,
   "sideBar": true,
   "skip_h1_title": false,
   "title_cell": "Table of Contents",
   "title_sidebar": "Contents",
   "toc_cell": false,
   "toc_position": {},
   "toc_section_display": true,
   "toc_window_display": false
  },
  "varInspector": {
   "cols": {
    "lenName": 16,
    "lenType": 16,
    "lenVar": 40
   },
   "kernels_config": {
    "python": {
     "delete_cmd_postfix": "",
     "delete_cmd_prefix": "del ",
     "library": "var_list.py",
     "varRefreshCmd": "print(var_dic_list())"
    },
    "r": {
     "delete_cmd_postfix": ") ",
     "delete_cmd_prefix": "rm(",
     "library": "var_list.r",
     "varRefreshCmd": "cat(var_dic_list()) "
    }
   },
   "types_to_exclude": [
    "module",
    "function",
    "builtin_function_or_method",
    "instance",
    "_Feature"
   ],
   "window_display": false
  }
 },
 "nbformat": 4,
 "nbformat_minor": 4
}
